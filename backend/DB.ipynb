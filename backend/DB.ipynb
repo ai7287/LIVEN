{
 "cells": [
  {
   "cell_type": "code",
   "execution_count": 4,
   "id": "e6129298",
   "metadata": {},
   "outputs": [],
   "source": [
    "import json\n",
    "from langchain_community.vectorstores import FAISS\n",
    "from langchain_huggingface import HuggingFaceEmbeddings\n",
    "from langchain.docstore.document import Document\n",
    "\n",
    "# 🔹 1. JSON 파일 불러오기 (파일명은 'qa_data.json'로 가정)\n",
    "with open(\"qa_with_source.json\", \"r\", encoding=\"utf-8\") as f:\n",
    "    qa_list = json.load(f)\n",
    "\n",
    "# 🔹 2. Document 객체로 변환\n",
    "docs = []\n",
    "for item in qa_list:\n",
    "    question = item.get(\"question\", \"\")\n",
    "    answer = item.get(\"answer\", \"\")\n",
    "    combined_text = f\"질문: {question}\\n답변: {answer}\"\n",
    "    docs.append(Document(page_content=combined_text, metadata={\"number\": item.get(\"number\", -1)}))\n",
    "\n",
    "# 🔹 3. 임베딩 모델 로딩\n",
    "embedding_model = HuggingFaceEmbeddings(model_name=\"intfloat/multilingual-e5-base\")\n",
    "\n",
    "# 🔹 4. FAISS 인덱스 생성\n",
    "db = FAISS.from_documents(docs, embedding_model)\n",
    "\n",
    "# 🔹 5. 인덱스 저장\n",
    "db.save_local(\"faiss_index\")"
   ]
  },
  {
   "cell_type": "code",
   "execution_count": 5,
   "id": "3b4a12e1",
   "metadata": {},
   "outputs": [],
   "source": [
    "db = FAISS.load_local(\n",
    "    \"faiss_index\", \n",
    "    HuggingFaceEmbeddings(model_name=\"intfloat/multilingual-e5-base\"),\n",
    "    allow_dangerous_deserialization=True\n",
    ")\n",
    "# pickle 저장\n",
    "import pickle\n",
    "with open(\"faiss_index/memory_cache.pkl\", \"wb\") as f:\n",
    "    pickle.dump(db, f)"
   ]
  },
  {
   "cell_type": "code",
   "execution_count": null,
   "id": "d707c725",
   "metadata": {},
   "outputs": [],
   "source": []
  },
  {
   "cell_type": "code",
   "execution_count": null,
   "id": "a5514092",
   "metadata": {},
   "outputs": [],
   "source": []
  },
  {
   "cell_type": "code",
   "execution_count": null,
   "id": "ad733699",
   "metadata": {},
   "outputs": [],
   "source": []
  },
  {
   "cell_type": "code",
   "execution_count": null,
   "id": "65633c0b",
   "metadata": {},
   "outputs": [],
   "source": []
  },
  {
   "cell_type": "code",
   "execution_count": null,
   "id": "a153b728",
   "metadata": {},
   "outputs": [
    {
     "name": "stdout",
     "output_type": "stream",
     "text": [
      "짐은 학문에 대한 탐구와 백성을 위한 정치에 큰 관심을 두어왔도다. 특히, 천문학과 음악에 대한 취미가 있었으며, 이러한 관심을 바탕으로 혼천의와 같은 과학기구를 제작하였느니라. 그에 대해 더 물을 것이 있는가?\n"
     ]
    }
   ],
   "source": []
  },
  {
   "cell_type": "code",
   "execution_count": null,
   "id": "af525dad",
   "metadata": {},
   "outputs": [],
   "source": []
  }
 ],
 "metadata": {
  "kernelspec": {
   "display_name": "sl",
   "language": "python",
   "name": "python3"
  },
  "language_info": {
   "codemirror_mode": {
    "name": "ipython",
    "version": 3
   },
   "file_extension": ".py",
   "mimetype": "text/x-python",
   "name": "python",
   "nbconvert_exporter": "python",
   "pygments_lexer": "ipython3",
   "version": "3.10.15"
  }
 },
 "nbformat": 4,
 "nbformat_minor": 5
}
